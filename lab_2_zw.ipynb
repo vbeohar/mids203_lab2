{
 "cells": [
  {
   "cell_type": "markdown",
   "metadata": {},
   "source": [
    "# Lab 2: Comparing Means\n",
    "## w203 Statistics for Data Science\n",
    "\n",
    "## The Data\n",
    "\n",
    "The American National Election Studies (ANES) conducts surveys of voters in the United States.  While its flagship survey occurs every four years at the time of each presidential election, ANES also conducts pilot studies midway between these elections.  You are provided with data from the 2018 ANES Pilot Study.\n",
    "\n",
    "For a glimpse into some of the intricacies that go into the design of this study, take a look at the introduction to the [ANES User's Guide and Codebook](https://electionstudies.org/wp-content/uploads/2019/02/anes_pilot_2018_userguidecodebook.pdf).\n",
    "\n",
    "It is important to consider the way that the ANES sample was created.  Survery participants are taken from the YouGov panel, which is an online system in which users earn rewards for completing questionnaires.  This feature limits the extent to which results generalize to the U.S. population.\n",
    "\n",
    "To partially account for differences between the YouGov panel and the U.S. Population, ANES assigns a survey weight to each observation.  This weight estimates the degree to which a citizen with certain observed characteristics is over- or under-represented in the sample.  For the purposes of this assignment, however, you are not asked to use the survey weights.  (For groups with a strong interest in survey analysis, we recommend that you read about R's [survey package](http://r-survey.r-forge.r-project.org/survey/).  We will assign a very small number of bonus points (up to 3) to any group that correctly applies the survey weights and includes a clear explanation of how these work)."
   ]
  },
  {
   "cell_type": "code",
   "execution_count": 1,
   "metadata": {},
   "outputs": [],
   "source": [
    "A = read.csv(\"anes_pilot_2018.csv\")"
   ]
  },
  {
   "cell_type": "markdown",
   "metadata": {},
   "source": [
    "Following is an example of a question asked on the ANES survey:\n",
    "\n",
    "> How difficult was it for you to vote in this last election?\n",
    "\n",
    "The variable `votehard` records answers to this question, with the following encoding:\n",
    "\n",
    "- -1 inapplicable, legitimate skip\n",
    "- 1 Not difficult at all\n",
    "- 2 A little difficult\n",
    "- 3 Moderately difficult\n",
    "- 4 Very difficult\n",
    "- 5 Extremely difficult\n",
    "\n",
    "\n",
    "To see the precise form of each question, take a look at the [Questionnaire Specifications](https://electionstudies.org/wp-content/uploads/2018/12/anes_pilot_2018_questionnaire.pdf)."
   ]
  },
  {
   "cell_type": "markdown",
   "metadata": {},
   "source": [
    "## Assignment\n",
    "\n",
    "You will use the ANES dataset to address five research questions.  For each question, you will need to operationalize the concepts (selecting appropriate variables and possibly transforming them), conduct exploratory analysis, deal with non-response and other special codes, perform sanity checks, select an appropriate hypothesis test, conduct the test, and interpret your results.  When selecting a hypothesis test, you may choose from the tests covered in the async videos and readings.  These include both paired and unpaired t-tests, Wilcoxon rank-sum test, Wilcoxon signed-rank test, and sign test.  You may select a one-tailed or two-tailed test.\n",
    "\n",
    "Please organize your response according to the prompts in this notebook.\n",
    "\n",
    "Note that this is a group lab.  There is a **maximum of three students per team.**\n",
    "Although you may work on your own, we do not recommend this (we have found that individuals tend to do worse than teams on past labs).\n",
    "\n",
    "Please limit your submission to 4500 words, not counting code or figures.  We will use some python code like the following to perform the wordcount on your notebook or Rmd file.\n",
    "\n",
    "```\n",
    "import nbformat\n",
    "\n",
    "with open('W203_Lab_2.ipynb') as f:\n",
    "    nb = nbformat.read(f, as_version=4)\n",
    "    total_words = 0\n",
    "\n",
    "    for cell in nb['cells']:\n",
    "        if cell['cell_type'] == 'markdown':\n",
    "            total_words += len(cell['source'].split())\n",
    "    print(\"Total words:\", total_words)\n",
    "```\n",
    "\n",
    "**Hint:** When answering questions about the potential gaps between conceptual and operational definitions it is often helpful to ask yourself \"If I could do anything I wanted, including borrowing Rick's portal gun, or doing an FMRI scan on all survey takers, to operationalize this particular concept how would I do it\" and then explain how that is different than what is actually measured.   "
   ]
  },
  {
   "cell_type": "markdown",
   "metadata": {},
   "source": [
    "## Submission Guidelines\n",
    "- Submit _one_ report per group.\n",
    "- Submit *both* your pdf report as well as your source file.\n",
    "- **Only analyses and comments included in your PDF report will be considered for grading.**\n",
    "- Include names of group members on the front page of the submitted report.\n",
    "- Naming structure of submitted files:\n",
    "    - PDF report: [student_surname_1]\\_[student_surname_2][\\_*]\\_lab\\_2.pdf\n",
    "    - Jupyter Notebook: [student_surname_1]\\_[student_surname_2][\\_*]\\_lab\\_2.ipynb\n"
   ]
  },
  {
   "cell_type": "markdown",
   "metadata": {},
   "source": [
    "# Research Questions"
   ]
  },
  {
   "cell_type": "markdown",
   "metadata": {},
   "source": [
    "## Question 1: Do US voters have more respect for the police or for journalists?"
   ]
  },
  {
   "cell_type": "markdown",
   "metadata": {},
   "source": [
    "### Introduce your topic briefly.  (5 points)\n",
    "Explain how your variables are operationalized.  Comment on any gaps that you can identify between your operational definitions and the concepts you are trying to study."
   ]
  },
  {
   "cell_type": "markdown",
   "metadata": {
    "scrolled": true
   },
   "source": [
    "Respondents were asked to rate journalists and police between 0 and 100 between a \"very cold or unfavorable feeling\" and a \"very warm or favorable feeling.\" One major gap is that while we aim to determine whether US voters have more respect for police or journalists, this question only asks for favorability. The assumption here is that favorability is tightly tied to respect and will thus miss situations where someone may respect police/journalists even if that person does not like them."
   ]
  },
  {
   "cell_type": "markdown",
   "metadata": {},
   "source": [
    "### Perform an exploratory data analysis (EDA) of the relevant variables. (5 points)\n",
    "This should include a treatment of non-response and other special codes, basic sanity checks, and a justification for any values that are removed.  Use visual tools to assess the relationship among your variables and comment on any features you find."
   ]
  },
  {
   "cell_type": "markdown",
   "metadata": {},
   "source": [
    "While the ratings of journalists are not missing any values, the summary and histogram show that there are a few negative ratings. As the documentation for the survey shows that 0 should be the lowest rating that one can give, we conclude that the negative ratings are coding errors. We will remove these.\n",
    "\n",
    "Otherwise, we see that journalist favorability has peaks at 0, 50, and 100. "
   ]
  },
  {
   "cell_type": "code",
   "execution_count": 26,
   "metadata": {},
   "outputs": [
    {
     "data": {
      "text/html": [
       "<ol class=list-inline>\n",
       "\t<li>'Number of missing values: '</li>\n",
       "\t<li>'0'</li>\n",
       "</ol>\n"
      ],
      "text/latex": [
       "\\begin{enumerate*}\n",
       "\\item 'Number of missing values: '\n",
       "\\item '0'\n",
       "\\end{enumerate*}\n"
      ],
      "text/markdown": [
       "1. 'Number of missing values: '\n",
       "2. '0'\n",
       "\n",
       "\n"
      ],
      "text/plain": [
       "[1] \"Number of missing values: \" \"0\"                         "
      ]
     },
     "metadata": {},
     "output_type": "display_data"
    },
    {
     "data": {
      "text/html": [
       "<ol class=list-inline>\n",
       "\t<li>'Standard deviation: '</li>\n",
       "\t<li>'32.5681372827251'</li>\n",
       "</ol>\n"
      ],
      "text/latex": [
       "\\begin{enumerate*}\n",
       "\\item 'Standard deviation: '\n",
       "\\item '32.5681372827251'\n",
       "\\end{enumerate*}\n"
      ],
      "text/markdown": [
       "1. 'Standard deviation: '\n",
       "2. '32.5681372827251'\n",
       "\n",
       "\n"
      ],
      "text/plain": [
       "[1] \"Standard deviation: \" \"32.5681372827251\"    "
      ]
     },
     "metadata": {},
     "output_type": "display_data"
    },
    {
     "data": {
      "text/plain": [
       "   Min. 1st Qu.  Median    Mean 3rd Qu.    Max. \n",
       "  -7.00   21.00   52.00   52.26   82.00  100.00 "
      ]
     },
     "metadata": {},
     "output_type": "display_data"
    },
    {
     "data": {
      "text/html": [
       "<ol class=list-inline>\n",
       "\t<li>'Number of samples: '</li>\n",
       "\t<li>'2498'</li>\n",
       "</ol>\n"
      ],
      "text/latex": [
       "\\begin{enumerate*}\n",
       "\\item 'Number of samples: '\n",
       "\\item '2498'\n",
       "\\end{enumerate*}\n"
      ],
      "text/markdown": [
       "1. 'Number of samples: '\n",
       "2. '2498'\n",
       "\n",
       "\n"
      ],
      "text/plain": [
       "[1] \"Number of samples: \" \"2498\"               "
      ]
     },
     "metadata": {},
     "output_type": "display_data"
    },
    {
     "data": {
      "image/png": "[encoded data removed]",
      "text/plain": [
       "Plot with title “Histogram of Journalist Favorability”"
      ]
     },
     "metadata": {},
     "output_type": "display_data"
    }
   ],
   "source": [
    "# EDA of Journalist Favorability\n",
    "c(\"Number of missing values: \", sum(is.na(A$ftjournal)))\n",
    "c(\"Standard deviation: \", sd(A$ftjournal))\n",
    "summary(A$ftjournal)\n",
    "hist(A$ftjournal, main=\"Histogram of Journalist Favorability\")\n",
    "journalists = A$ftjournal[which(A$ftjournal>=0)]\n",
    "c(\"Number of samples: \", length(journalists))"
   ]
  },
  {
   "cell_type": "markdown",
   "metadata": {},
   "source": [
    "The ratings of police are not missing any values. While police ratings also have peaks at 0, 50, and 100, there is a much larger peak at 100 for police than for journalists. Police ratings have a large left skew."
   ]
  },
  {
   "cell_type": "code",
   "execution_count": 27,
   "metadata": {},
   "outputs": [
    {
     "data": {
      "text/html": [
       "<ol class=list-inline>\n",
       "\t<li>'Number of missing values: '</li>\n",
       "\t<li>'0'</li>\n",
       "</ol>\n"
      ],
      "text/latex": [
       "\\begin{enumerate*}\n",
       "\\item 'Number of missing values: '\n",
       "\\item '0'\n",
       "\\end{enumerate*}\n"
      ],
      "text/markdown": [
       "1. 'Number of missing values: '\n",
       "2. '0'\n",
       "\n",
       "\n"
      ],
      "text/plain": [
       "[1] \"Number of missing values: \" \"0\"                         "
      ]
     },
     "metadata": {},
     "output_type": "display_data"
    },
    {
     "data": {
      "text/html": [
       "<ol class=list-inline>\n",
       "\t<li>'Standard deviation: '</li>\n",
       "\t<li>'28.7838575097442'</li>\n",
       "</ol>\n"
      ],
      "text/latex": [
       "\\begin{enumerate*}\n",
       "\\item 'Standard deviation: '\n",
       "\\item '28.7838575097442'\n",
       "\\end{enumerate*}\n"
      ],
      "text/markdown": [
       "1. 'Standard deviation: '\n",
       "2. '28.7838575097442'\n",
       "\n",
       "\n"
      ],
      "text/plain": [
       "[1] \"Standard deviation: \" \"28.7838575097442\"    "
      ]
     },
     "metadata": {},
     "output_type": "display_data"
    },
    {
     "data": {
      "text/plain": [
       "   Min. 1st Qu.  Median    Mean 3rd Qu.    Max. \n",
       "   0.00   47.00   70.00   64.68   90.00  100.00 "
      ]
     },
     "metadata": {},
     "output_type": "display_data"
    },
    {
     "data": {
      "text/html": [
       "<ol class=list-inline>\n",
       "\t<li>'Number of samples: '</li>\n",
       "\t<li>'2500'</li>\n",
       "</ol>\n"
      ],
      "text/latex": [
       "\\begin{enumerate*}\n",
       "\\item 'Number of samples: '\n",
       "\\item '2500'\n",
       "\\end{enumerate*}\n"
      ],
      "text/markdown": [
       "1. 'Number of samples: '\n",
       "2. '2500'\n",
       "\n",
       "\n"
      ],
      "text/plain": [
       "[1] \"Number of samples: \" \"2500\"               "
      ]
     },
     "metadata": {},
     "output_type": "display_data"
    },
    {
     "data": {
      "image/png": "[encoded data removed]",
      "text/plain": [
       "Plot with title “Histogram of Police Favorability”"
      ]
     },
     "metadata": {},
     "output_type": "display_data"
    }
   ],
   "source": [
    "# EDA of Police Favorability\n",
    "c(\"Number of missing values: \", sum(is.na(A$ftpolice)))\n",
    "c(\"Standard deviation: \", sd(A$ftpolice))\n",
    "summary(A$ftpolice)\n",
    "hist(A$ftpolice, main=\"Histogram of Police Favorability\")\n",
    "police = A$ftpolice\n",
    "c(\"Number of samples: \", length(police))"
   ]
  },
  {
   "cell_type": "markdown",
   "metadata": {},
   "source": [
    "### Based on your EDA, select an appropriate hypothesis test.  (5 points)\n",
    "Explain why your test is the most appropriate choice.  List and evaluate all assumptions for your test."
   ]
  },
  {
   "cell_type": "markdown",
   "metadata": {},
   "source": [
    "Based on the EDA, we believe that the two-tailed unpaired t-test would be the most appropriate to determine whether journalists or police are viewed with more respect.\n",
    "\n",
    "Because we have no supported belief that either respect of police is higher than that of journalists or vice versa, we go with a 2-tailed rather than a 1-tailed t-test.\n",
    "\n",
    "In order to confirm that the two features are:\n",
    "* Quantitative (rather than ordinal or nominal)\n",
    "* Independent and identically distributed\n",
    "* Relatively normally distributed\n",
    "\n",
    "For both the police and journalist scores, we see that:\n",
    "* The data is quantitative as presumably, the difference between 0 and 1 in the favorability metric should be the same distance as between 99 and 100. Note that this is an assumption that we are making despite the fact that 0 is defined as \"very cold or unfavorable feeling\" and a 100 is defined as \"very warm or favorable feeling,\" both of which are highly qualitative.\n",
    "* IID as we assume that individuals who answered the survey did not talk to subsequent respondents to try to affect their responses\n",
    "* Even though the police scores are more multi-modal than truly normally distributed and even though journalist scores are heavily left skewed, because there are many samples (~2500) and the t-test is relatively robust to non-normality, we assume that the t-test is OK."
   ]
  },
  {
   "cell_type": "markdown",
   "metadata": {},
   "source": [
    "### Conduct your test. (5 points)\n",
    "Explain (1) the statistical significance of your result, and (2) the practical significance of your result.  Make sure you relate your findings to the original research question."
   ]
  },
  {
   "cell_type": "markdown",
   "metadata": {},
   "source": [
    "# NEED TO CALCULATE COHEN'S D OR OTHER MEASUREMENT FOR EFFECT SIZE"
   ]
  },
  {
   "cell_type": "markdown",
   "metadata": {},
   "source": [
    "Based on the results of the t-test below, we can reject the null hypothesis that police and journalists are respected equally. The t-test shows that the average rating for journalists is 52 and the average rating for police is 65. The difference is significant to a p-value of 2.2e-16, that there is a <<1% chance that we would see such a large difference in ratings if we assume that the population average ratings of both police and journalists are the same.\n",
    "\n",
    "Instead, it seems that police are rated higher than journalists."
   ]
  },
  {
   "cell_type": "code",
   "execution_count": 28,
   "metadata": {},
   "outputs": [
    {
     "data": {
      "text/plain": [
       "\n",
       "\tWelch Two Sample t-test\n",
       "\n",
       "data:  journalists and police\n",
       "t = -14.237, df = 4921.8, p-value < 2.2e-16\n",
       "alternative hypothesis: true difference in means is not equal to 0\n",
       "95 percent confidence interval:\n",
       " -14.07666 -10.66924\n",
       "sample estimates:\n",
       "mean of x mean of y \n",
       " 52.31185  64.68480 \n"
      ]
     },
     "metadata": {},
     "output_type": "display_data"
    }
   ],
   "source": [
    "t.test(journalists, police)"
   ]
  },
  {
   "cell_type": "markdown",
   "metadata": {},
   "source": [
    "## Question 2: Are Republican voters older or younger than Democratic voters?"
   ]
  },
  {
   "cell_type": "markdown",
   "metadata": {},
   "source": [
    "### Introduce your topic briefly.  (5 points)\n",
    "Explain how your variables are operationalized.  Comment on any gaps that you can identify between your operational definitions and the concepts you are trying to study."
   ]
  },
  {
   "cell_type": "code",
   "execution_count": null,
   "metadata": {},
   "outputs": [],
   "source": []
  },
  {
   "cell_type": "markdown",
   "metadata": {},
   "source": [
    "### Perform an exploratory data analysis (EDA) of the relevant variables. (5 points)\n",
    "This should include a treatment of non-response and other special codes, basic sanity checks, and a justification for any values that are removed.  Use visual tools to assess the relationship among your variables and comment on any features you find."
   ]
  },
  {
   "cell_type": "code",
   "execution_count": null,
   "metadata": {},
   "outputs": [],
   "source": []
  },
  {
   "cell_type": "markdown",
   "metadata": {},
   "source": [
    "### Based on your EDA, select an appropriate hypothesis test.  (5 points)\n",
    "Explain why your test is the most appropriate choice.  List and evaluate all assumptions for your test."
   ]
  },
  {
   "cell_type": "code",
   "execution_count": null,
   "metadata": {},
   "outputs": [],
   "source": []
  },
  {
   "cell_type": "markdown",
   "metadata": {},
   "source": [
    "### Conduct your test. (5 points)\n",
    "Explain (1) the statistical significance of your result, and (2) the practical significance of your result.  Make sure you relate your findings to the original research question."
   ]
  },
  {
   "cell_type": "code",
   "execution_count": null,
   "metadata": {},
   "outputs": [],
   "source": []
  },
  {
   "cell_type": "markdown",
   "metadata": {},
   "source": [
    "## Question 3: Do a majority of independent voters believe that the federal investigations of Russian election interference are baseless?"
   ]
  },
  {
   "cell_type": "markdown",
   "metadata": {},
   "source": [
    "### Introduce your topic briefly.  (5 points)\n",
    "Explain how your variables are operationalized.  Comment on any gaps that you can identify between your operational definitions and the concepts you are trying to study."
   ]
  },
  {
   "cell_type": "code",
   "execution_count": null,
   "metadata": {},
   "outputs": [],
   "source": []
  },
  {
   "cell_type": "markdown",
   "metadata": {},
   "source": [
    "### Perform an exploratory data analysis (EDA) of the relevant variables. (5 points)\n",
    "This should include a treatment of non-response and other special codes, basic sanity checks, and a justification for any values that are removed.  Use visual tools to assess the relationship among your variables and comment on any features you find."
   ]
  },
  {
   "cell_type": "code",
   "execution_count": null,
   "metadata": {},
   "outputs": [],
   "source": []
  },
  {
   "cell_type": "markdown",
   "metadata": {},
   "source": [
    "### Based on your EDA, select an appropriate hypothesis test.  (5 points)\n",
    "Explain why your test is the most appropriate choice.  List and evaluate all assumptions for your test."
   ]
  },
  {
   "cell_type": "code",
   "execution_count": null,
   "metadata": {},
   "outputs": [],
   "source": []
  },
  {
   "cell_type": "markdown",
   "metadata": {},
   "source": [
    "### Conduct your test. (5 points)\n",
    "Explain (1) the statistical significance of your result, and (2) the practical significance of your result.  Make sure you relate your findings to the original research question."
   ]
  },
  {
   "cell_type": "code",
   "execution_count": null,
   "metadata": {},
   "outputs": [],
   "source": []
  },
  {
   "cell_type": "markdown",
   "metadata": {},
   "source": [
    "## Question 4: Was anger or fear more effective at driving increases in voter turnout from 2016 to 2018?"
   ]
  },
  {
   "cell_type": "markdown",
   "metadata": {},
   "source": [
    "### Introduce your topic briefly.  (5 points)\n",
    "Explain how your variables are operationalized.  Comment on any gaps that you can identify between your operational definitions and the concepts you are trying to study."
   ]
  },
  {
   "cell_type": "code",
   "execution_count": null,
   "metadata": {},
   "outputs": [],
   "source": []
  },
  {
   "cell_type": "markdown",
   "metadata": {},
   "source": [
    "### Perform an exploratory data analysis (EDA) of the relevant variables. (5 points)\n",
    "This should include a treatment of non-response and other special codes, basic sanity checks, and a justification for any values that are removed.  Use visual tools to assess the relationship among your variables and comment on any features you find."
   ]
  },
  {
   "cell_type": "code",
   "execution_count": null,
   "metadata": {},
   "outputs": [],
   "source": []
  },
  {
   "cell_type": "markdown",
   "metadata": {},
   "source": [
    "### Based on your EDA, select an appropriate hypothesis test.  (5 points)\n",
    "Explain why your test is the most appropriate choice.  List and evaluate all assumptions for your test."
   ]
  },
  {
   "cell_type": "code",
   "execution_count": null,
   "metadata": {},
   "outputs": [],
   "source": []
  },
  {
   "cell_type": "markdown",
   "metadata": {},
   "source": [
    "### Conduct your test. (5 points)\n",
    "Explain (1) the statistical significance of your result, and (2) the practical significance of your result.  Make sure you relate your findings to the original research question."
   ]
  },
  {
   "cell_type": "code",
   "execution_count": null,
   "metadata": {},
   "outputs": [],
   "source": []
  },
  {
   "cell_type": "markdown",
   "metadata": {},
   "source": [
    "## Question 5: Select a fifth question that you believe is important for understanding the behavior of voters"
   ]
  },
  {
   "cell_type": "markdown",
   "metadata": {},
   "source": [
    "### Clearly argue for the relevance of this question.  (10 points)\n",
    "In words, clearly state your research question and argue why it is important for understanding the recent voting behavior. Explain it as if you were presenting to an audience that includes technical and non technical members.\n",
    "\n",
    "Explain how your variables are operationalized.  Comment on any gaps that you can identify between your operational definitions and the concepts you are trying to study."
   ]
  },
  {
   "cell_type": "code",
   "execution_count": null,
   "metadata": {},
   "outputs": [],
   "source": []
  },
  {
   "cell_type": "markdown",
   "metadata": {},
   "source": [
    "### Perform EDA and select your hypothesis test (5 points)\n",
    "\n",
    "Perform an exploratory data analysis (EDA) of the relevant variables.\n",
    "\n",
    "This should include a treatment of non-response and other special codes, basic sanity checks, and a justification for any values that are removed.  Use visual tools to assess the relationship among your variables and comment on any features you find.\n",
    "\n",
    "Based on your EDA, select an appropriate hypothesis test.\n",
    "Explain why your test is the most appropriate choice.  List and evaluate all assumptions for your test."
   ]
  },
  {
   "cell_type": "code",
   "execution_count": null,
   "metadata": {},
   "outputs": [],
   "source": []
  },
  {
   "cell_type": "markdown",
   "metadata": {},
   "source": [
    "### Conduct your test. (2 points)\n",
    "Explain (1) the statistical significance of your result, and (2) the practical significance of your result."
   ]
  },
  {
   "cell_type": "code",
   "execution_count": null,
   "metadata": {},
   "outputs": [],
   "source": []
  },
  {
   "cell_type": "markdown",
   "metadata": {},
   "source": [
    "### Conclusion (3 points)\n",
    "Clearly state the conclusion of your hypothesis test and how it relates to your research question.\n",
    "\n",
    "Finally, briefly present your conclusion in words as if you were presenting to an audience that includes technical and non technical members."
   ]
  },
  {
   "cell_type": "code",
   "execution_count": null,
   "metadata": {},
   "outputs": [],
   "source": []
  }
 ],
 "metadata": {
  "kernelspec": {
   "display_name": "R",
   "language": "R",
   "name": "ir"
  },
  "language_info": {
   "codemirror_mode": "r",
   "file_extension": ".r",
   "mimetype": "text/x-r-source",
   "name": "R",
   "pygments_lexer": "r",
   "version": "3.6.1"
  },
  "toc": {
   "base_numbering": 1,
   "nav_menu": {},
   "number_sections": true,
   "sideBar": true,
   "skip_h1_title": false,
   "title_cell": "Table of Contents",
   "title_sidebar": "Contents",
   "toc_cell": true,
   "toc_position": {},
   "toc_section_display": true,
   "toc_window_display": false
  },
  "varInspector": {
   "cols": {
    "lenName": 16,
    "lenType": 16,
    "lenVar": 40
   },
   "kernels_config": {
    "python": {
     "delete_cmd_postfix": "",
     "delete_cmd_prefix": "del ",
     "library": "var_list.py",
     "varRefreshCmd": "print(var_dic_list())"
    },
    "r": {
     "delete_cmd_postfix": ") ",
     "delete_cmd_prefix": "rm(",
     "library": "var_list.r",
     "varRefreshCmd": "cat(var_dic_list()) "
    }
   },
   "types_to_exclude": [
    "module",
    "function",
    "builtin_function_or_method",
    "instance",
    "_Feature"
   ],
   "window_display": false
  }
 },
 "nbformat": 4,
 "nbformat_minor": 4
}
